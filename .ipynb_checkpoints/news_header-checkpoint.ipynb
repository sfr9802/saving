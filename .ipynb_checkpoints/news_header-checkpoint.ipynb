{
 "cells": [
  {
   "cell_type": "code",
   "execution_count": 23,
   "metadata": {},
   "outputs": [],
   "source": [
    "from selenium import webdriver\n",
    "from selenium.webdriver.chrome.service import Service as ChromeService\n",
    "from selenium.webdriver.chrome.options import Options as ChromeOptions\n",
    "from selenium.webdriver.common.by import By\n",
    "from bs4 import BeautifulSoup as Soup\n",
    "import pandas as pd\n",
    "import time\n",
    "import numpy as np\n",
    "import dtw\n",
    "import matplotlib.pyplot as plt\n",
    "import csv\n"
   ]
  },
  {
   "cell_type": "code",
   "execution_count": 52,
   "metadata": {},
   "outputs": [
    {
     "name": "stderr",
     "output_type": "stream",
     "text": [
      "Exception ignored in: <function Service.__del__ at 0x0000012B4DD7FE20>\n",
      "Traceback (most recent call last):\n",
      "  File \"h:\\anaconda\\Lib\\site-packages\\selenium\\webdriver\\common\\service.py\", line 193, in __del__\n",
      "    self.stop()\n",
      "  File \"h:\\anaconda\\Lib\\site-packages\\selenium\\webdriver\\common\\service.py\", line 154, in stop\n",
      "    self.send_remote_shutdown_command()\n",
      "  File \"h:\\anaconda\\Lib\\site-packages\\selenium\\webdriver\\common\\service.py\", line 138, in send_remote_shutdown_command\n",
      "    if not self.is_connectable():\n",
      "           ^^^^^^^^^^^^^^^^^^^^^\n",
      "  File \"h:\\anaconda\\Lib\\site-packages\\selenium\\webdriver\\common\\service.py\", line 127, in is_connectable\n",
      "    return utils.is_connectable(self.port)\n",
      "           ^^^^^^^^^^^^^^^^^^^^^^^^^^^^^^^\n",
      "  File \"h:\\anaconda\\Lib\\site-packages\\selenium\\webdriver\\common\\utils.py\", line 101, in is_connectable\n",
      "    socket_ = socket.create_connection((host, port), 1)\n",
      "              ^^^^^^^^^^^^^^^^^^^^^^^^^^^^^^^^^^^^^^^^^\n",
      "  File \"h:\\anaconda\\Lib\\socket.py\", line 843, in create_connection\n",
      "    exceptions.clear()  # raise only the last error\n",
      "    ^^^^^^^^^^^^^^^^^^\n",
      "KeyboardInterrupt: \n"
     ]
    },
    {
     "ename": "NoSuchWindowException",
     "evalue": "Message: no such window: target window already closed\nfrom unknown error: web view not found\n  (Session info: chrome=117.0.5938.92)\nStacktrace:\n\tGetHandleVerifier [0x00007FF7A78FAFD2+57938]\n\t(No symbol) [0x00007FF7A7867C02]\n\t(No symbol) [0x00007FF7A771DAAB]\n\t(No symbol) [0x00007FF7A76FDEE8]\n\t(No symbol) [0x00007FF7A7783507]\n\t(No symbol) [0x00007FF7A7796F1F]\n\t(No symbol) [0x00007FF7A777E8C3]\n\t(No symbol) [0x00007FF7A77536D1]\n\t(No symbol) [0x00007FF7A7754914]\n\tGetHandleVerifier [0x00007FF7A7C5E772+3611122]\n\tGetHandleVerifier [0x00007FF7A7CB1640+3950784]\n\tGetHandleVerifier [0x00007FF7A7CAA6EF+3922287]\n\tGetHandleVerifier [0x00007FF7A7998996+703510]\n\t(No symbol) [0x00007FF7A7872B98]\n\t(No symbol) [0x00007FF7A786E754]\n\t(No symbol) [0x00007FF7A786E882]\n\t(No symbol) [0x00007FF7A785F2A3]\n\tBaseThreadInitThunk [0x00007FFFE0F37344+20]\n\tRtlUserThreadStart [0x00007FFFE25E26B1+33]\n",
     "output_type": "error",
     "traceback": [
      "\u001b[1;31m---------------------------------------------------------------------------\u001b[0m",
      "\u001b[1;31mNoSuchWindowException\u001b[0m                     Traceback (most recent call last)",
      "\u001b[1;32mg:\\port\\arin\\port\\news_header.ipynb Cell 2\u001b[0m line \u001b[0;36m1\n\u001b[0;32m     <a href='vscode-notebook-cell:/g%3A/port/arin/port/news_header.ipynb#W1sZmlsZQ%3D%3D?line=12'>13</a>\u001b[0m df_header \u001b[39m=\u001b[39m pd\u001b[39m.\u001b[39mDataFrame(columns\u001b[39m=\u001b[39m[\u001b[39m'\u001b[39m\u001b[39mheader\u001b[39m\u001b[39m'\u001b[39m], index\u001b[39m=\u001b[39m data_ix)\n\u001b[0;32m     <a href='vscode-notebook-cell:/g%3A/port/arin/port/news_header.ipynb#W1sZmlsZQ%3D%3D?line=14'>15</a>\u001b[0m \u001b[39mfor\u001b[39;00m i \u001b[39min\u001b[39;00m \u001b[39mrange\u001b[39m(\u001b[39m500\u001b[39m):\n\u001b[1;32m---> <a href='vscode-notebook-cell:/g%3A/port/arin/port/news_header.ipynb#W1sZmlsZQ%3D%3D?line=15'>16</a>\u001b[0m     driver\u001b[39m.\u001b[39mfind_element(By\u001b[39m.\u001b[39mXPATH, \u001b[39m\"\u001b[39m\u001b[39m/html/body/div[2]/div/div/div[1]/div[3]/div/span/a[10]/span\u001b[39m\u001b[39m\"\u001b[39m)\u001b[39m.\u001b[39mclick()\n\u001b[0;32m     <a href='vscode-notebook-cell:/g%3A/port/arin/port/news_header.ipynb#W1sZmlsZQ%3D%3D?line=16'>17</a>\u001b[0m     \u001b[39mfor\u001b[39;00m j \u001b[39min\u001b[39;00m \u001b[39mrange\u001b[39m(\u001b[39m20\u001b[39m):\n\u001b[0;32m     <a href='vscode-notebook-cell:/g%3A/port/arin/port/news_header.ipynb#W1sZmlsZQ%3D%3D?line=17'>18</a>\u001b[0m         \u001b[39mfor\u001b[39;00m n \u001b[39min\u001b[39;00m \u001b[39mrange\u001b[39m(\u001b[39m1\u001b[39m, \u001b[39m15\u001b[39m) :\n",
      "File \u001b[1;32mh:\\anaconda\\Lib\\site-packages\\selenium\\webdriver\\remote\\webdriver.py:738\u001b[0m, in \u001b[0;36mWebDriver.find_element\u001b[1;34m(self, by, value)\u001b[0m\n\u001b[0;32m    735\u001b[0m     by \u001b[39m=\u001b[39m By\u001b[39m.\u001b[39mCSS_SELECTOR\n\u001b[0;32m    736\u001b[0m     value \u001b[39m=\u001b[39m \u001b[39mf\u001b[39m\u001b[39m'\u001b[39m\u001b[39m[name=\u001b[39m\u001b[39m\"\u001b[39m\u001b[39m{\u001b[39;00mvalue\u001b[39m}\u001b[39;00m\u001b[39m\"\u001b[39m\u001b[39m]\u001b[39m\u001b[39m'\u001b[39m\n\u001b[1;32m--> 738\u001b[0m \u001b[39mreturn\u001b[39;00m \u001b[39mself\u001b[39m\u001b[39m.\u001b[39mexecute(Command\u001b[39m.\u001b[39mFIND_ELEMENT, {\u001b[39m\"\u001b[39m\u001b[39musing\u001b[39m\u001b[39m\"\u001b[39m: by, \u001b[39m\"\u001b[39m\u001b[39mvalue\u001b[39m\u001b[39m\"\u001b[39m: value})[\u001b[39m\"\u001b[39m\u001b[39mvalue\u001b[39m\u001b[39m\"\u001b[39m]\n",
      "File \u001b[1;32mh:\\anaconda\\Lib\\site-packages\\selenium\\webdriver\\remote\\webdriver.py:344\u001b[0m, in \u001b[0;36mWebDriver.execute\u001b[1;34m(self, driver_command, params)\u001b[0m\n\u001b[0;32m    342\u001b[0m response \u001b[39m=\u001b[39m \u001b[39mself\u001b[39m\u001b[39m.\u001b[39mcommand_executor\u001b[39m.\u001b[39mexecute(driver_command, params)\n\u001b[0;32m    343\u001b[0m \u001b[39mif\u001b[39;00m response:\n\u001b[1;32m--> 344\u001b[0m     \u001b[39mself\u001b[39m\u001b[39m.\u001b[39merror_handler\u001b[39m.\u001b[39mcheck_response(response)\n\u001b[0;32m    345\u001b[0m     response[\u001b[39m\"\u001b[39m\u001b[39mvalue\u001b[39m\u001b[39m\"\u001b[39m] \u001b[39m=\u001b[39m \u001b[39mself\u001b[39m\u001b[39m.\u001b[39m_unwrap_value(response\u001b[39m.\u001b[39mget(\u001b[39m\"\u001b[39m\u001b[39mvalue\u001b[39m\u001b[39m\"\u001b[39m, \u001b[39mNone\u001b[39;00m))\n\u001b[0;32m    346\u001b[0m     \u001b[39mreturn\u001b[39;00m response\n",
      "File \u001b[1;32mh:\\anaconda\\Lib\\site-packages\\selenium\\webdriver\\remote\\errorhandler.py:229\u001b[0m, in \u001b[0;36mErrorHandler.check_response\u001b[1;34m(self, response)\u001b[0m\n\u001b[0;32m    227\u001b[0m         alert_text \u001b[39m=\u001b[39m value[\u001b[39m\"\u001b[39m\u001b[39malert\u001b[39m\u001b[39m\"\u001b[39m]\u001b[39m.\u001b[39mget(\u001b[39m\"\u001b[39m\u001b[39mtext\u001b[39m\u001b[39m\"\u001b[39m)\n\u001b[0;32m    228\u001b[0m     \u001b[39mraise\u001b[39;00m exception_class(message, screen, stacktrace, alert_text)  \u001b[39m# type: ignore[call-arg]  # mypy is not smart enough here\u001b[39;00m\n\u001b[1;32m--> 229\u001b[0m \u001b[39mraise\u001b[39;00m exception_class(message, screen, stacktrace)\n",
      "\u001b[1;31mNoSuchWindowException\u001b[0m: Message: no such window: target window already closed\nfrom unknown error: web view not found\n  (Session info: chrome=117.0.5938.92)\nStacktrace:\n\tGetHandleVerifier [0x00007FF7A78FAFD2+57938]\n\t(No symbol) [0x00007FF7A7867C02]\n\t(No symbol) [0x00007FF7A771DAAB]\n\t(No symbol) [0x00007FF7A76FDEE8]\n\t(No symbol) [0x00007FF7A7783507]\n\t(No symbol) [0x00007FF7A7796F1F]\n\t(No symbol) [0x00007FF7A777E8C3]\n\t(No symbol) [0x00007FF7A77536D1]\n\t(No symbol) [0x00007FF7A7754914]\n\tGetHandleVerifier [0x00007FF7A7C5E772+3611122]\n\tGetHandleVerifier [0x00007FF7A7CB1640+3950784]\n\tGetHandleVerifier [0x00007FF7A7CAA6EF+3922287]\n\tGetHandleVerifier [0x00007FF7A7998996+703510]\n\t(No symbol) [0x00007FF7A7872B98]\n\t(No symbol) [0x00007FF7A786E754]\n\t(No symbol) [0x00007FF7A786E882]\n\t(No symbol) [0x00007FF7A785F2A3]\n\tBaseThreadInitThunk [0x00007FFFE0F37344+20]\n\tRtlUserThreadStart [0x00007FFFE25E26B1+33]\n"
     ]
    }
   ],
   "source": [
    "options = webdriver.ChromeOptions()\n",
    "options.add_argument(\"user-agent=Mozilla/5.0 (Windows NT 10.0; Win64; x64) AppleWebKit/537.36 (KHTML, like Gecko)\")\n",
    "driver = webdriver.Chrome(options=options)\n",
    "\n",
    "\n",
    "driver.get(\"https://news.daum.net/breakingnews/society?page=1&regDate=20220520\")\n",
    "    \n",
    "html = driver.page_source\n",
    "soup = Soup(html, 'html.parser')\n",
    "header_list = []\n",
    "data_ix = pd.date_range(\"2022/05/20\",periods=500,freq=\"D\")\n",
    "\n",
    "df_header = pd.DataFrame(columns=['header'], index= data_ix)\n",
    "\n",
    "for i in range(500):\n",
    "    driver.find_element(By.XPATH, \"/html/body/div[2]/div/div/div[1]/div[3]/div/span/a[10]\").click()\n",
    "    for j in range(10):\n",
    "        for n in range(1, 15) :\n",
    "            n = str(n)\n",
    "            try :\n",
    "                header_list.append(driver.find_element(By.XPATH, \"/html/body/div[2]/div/div/div[1]/div[3]/ul/li[\"+n+\"]/div/strong/a\").text)\n",
    "            except :\n",
    "                break\n",
    "        try :\n",
    "            driver.find_element(By.XPATH, \"/html/body/div[2]/div/div/div[1]/div[3]/div/span/a[11]\").click()\n",
    "        except :\n",
    "            break\n",
    "    df_header.iat[i,0] = header_list\n",
    "    header_list = []\n",
    "    driver.find_element(By.XPATH, '/html/body/div[2]/div/div/div[1]/div[1]/div/div[1]/a[3]').click()\n",
    "    time.sleep(1)\n",
    "    \n",
    "\n",
    "df_header.to_csv('daum_header.csv', sep=',', float_format='%.64f')"
   ]
  },
  {
   "cell_type": "code",
   "execution_count": null,
   "metadata": {},
   "outputs": [],
   "source": []
  }
 ],
 "metadata": {
  "kernelspec": {
   "display_name": "Python 3 (ipykernel)",
   "language": "python",
   "name": "python3"
  },
  "language_info": {
   "codemirror_mode": {
    "name": "ipython",
    "version": 3
   },
   "file_extension": ".py",
   "mimetype": "text/x-python",
   "name": "python",
   "nbconvert_exporter": "python",
   "pygments_lexer": "ipython3",
   "version": "3.11.4"
  }
 },
 "nbformat": 4,
 "nbformat_minor": 2
}
