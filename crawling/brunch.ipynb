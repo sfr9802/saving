{
 "cells": [
  {
   "cell_type": "code",
   "execution_count": 10,
   "id": "c7b11926",
   "metadata": {},
   "outputs": [],
   "source": [
    "from bs4 import BeautifulSoup as Soup\n",
    "from selenium import webdriver\n",
    "import time"
   ]
  },
  {
   "cell_type": "code",
   "execution_count": 22,
   "id": "22779286",
   "metadata": {},
   "outputs": [
    {
     "name": "stderr",
     "output_type": "stream",
     "text": [
      "C:\\Users\\TT\\AppData\\Local\\Temp/ipykernel_9952/973398030.py:4: DeprecationWarning: executable_path has been deprecated, please pass in a Service object\n",
      "  driver = webdriver.Chrome('chromedriver.exe', options=options)\n",
      "C:\\Users\\TT\\AppData\\Local\\Temp/ipykernel_9952/973398030.py:8: DeprecationWarning: find_element_by_xpath is deprecated. Please use find_element(by=By.XPATH, value=xpath) instead\n",
      "  driver.find_element_by_xpath('/html/body/div[2]/main/div/article/div[3]/div[1]/div/a[3]').click()\n"
     ]
    },
    {
     "name": "stdout",
     "output_type": "stream",
     "text": [
      "작은 이야기를 계속하겠습니다. 우선 저는 이 영화를 아동 방치 사건의 재발 방지를 목적으로 만든 게 아닙니다. 저를 취재한 기자분이 그런 식으로 기사를 썼을 수는 있지만, 제가 그런 취지의 발언을 한 적은 한 번도 없다고 단언할 수 있습니다. 아주 본질적인 이야기이므로 비판을 각오하고 굳이 쓰겠습니다만, 이 작품을 본 분들이 어떤 반응을 보이고 어떤 감상을 가질지에 대해 저는 일절 책임\n",
      "엄마는 너밖에 모르지 않는다 엄마라는 이름 앞에 너무 무거운 짐을 지어 놓는다. 우리 사회가 바라는 엄마라는 존재는 어떠한가. 미디어에서 다뤄지는 엄마의 모습을 보다 보면 그 역할이 너무 무겁다. 요즘 한참 인기 있다는 화장품 중 가희라는 제품이 있다. 그 속에서 다뤄지는 여자는 어디에 있던 충실한 삶을 살지만 미모만은 잃지 않는다. 그래서 그 제품을 선택하는 것이 현명한 선택이다, \n",
      "보수는 탐욕으로 망하고 진보는 분열로 무너진다  얼마 전, 볕 좋은 봄날에 친구를 만났다. 오랜만에 만난 친구였다.  대선이 끝난 직후라 자연스레 정치 얘기가 나왔다. 우린 지난 조국 사태 때 함께 조국을 비난했던 추억이 있다. 서로 본인의 정치 성향을 노골적으로 밝히지는 않았지만 친구는 오랜 서초구민이었으므로 그 동네 특성상 우클릭하지 않았을까 추측한다. 나는 시계추처럼 좌우로 흔들리는 스윙 보터 … \n",
      "편향이 없는 것보다 좋은 편향이 낫다 Work Log 방송국에서 시사 콘텐츠를 만듭니다. 할 말이 쌓였을 때 일 기록을 남깁니다. 이 글은 1월 초부터 대선 전까지 기록입니다.   3. 선거 저널리즘 좋은 편향  한 정당이 제작국에 항의 방문 차 찾아왔다. 언론의 공정성과 객관성을 헤쳤다는 이유였다. 근거는 대충 이런 식이다. \"열번 중 일곱번은 우리당을 비판했다\" 주요 출연자를 자의적으로 분\n",
      "“이재명 고문에게 ‘재수’를 허하라” 지난 대선에서 석패한 172석의 더불어민주당이 좀처럼 중심을 잡지 못하고 비틀거리고 있습니다. 으레 나오기 마련인 대선 패배 책임론은 윤호중 비상대책위원장 체제로 어물쩍 넘어가 버렸고, 24만표 차이라는 숫자 때문에 이재명 당 상임고문의 ‘복귀’를 오매불망 기다리는 형국이 돼 가고 있습니다. 이런 분위기는 6월 지방선거 대응에도 그대로 나타나고 있습니다. \n",
      "국가가 꾸민 거대한 음모 당연하다고 여긴 사실에 대해 좀만 더 깊게 생각해보면 국가가 숨겨놓은 비밀이 보인다. 학창 시절을 한 번 떠올려보자. 국가가 정해 놓은 필수 과목은 '국사'다. 역사를 교육함으로써 애국심을 느끼게 만든다. 애국심이라고 포장된 이 단어는 국가에 대한 충성도를 높이고 싶은 지도층이 만들었다. 당신이 지도자라고 생각해보자. 당연히 국민이 자신을 잘 따르게 만드는\n",
      "아무리 화가 나도 아이들에게 나가 죽으라는 말은... 며칠 전 직장 동료의 부친상이 있어 모 장례식장에 다녀왔다. 지금도 생생하게 기억나는 19년 전 변사사건의 변사자가 안치되었던 곳이라 그 사건이 떠올랐다. 2003년 3월, 당직근무 중 변사사건 신고를 접수하고, 한 아파트로 형사 2명과 함께 형기차를 타고 출동했다.  신고 내용 자체가 타살 의심은 없는 추락사고였기 때문에 많은 긴장을 요하지는 않았다. 변\n",
      "여전히 철새스러운지… 김현정의 뉴스쇼에서 노랫소리가 들린다. 김민~ 새가~ 날아~드은~다하.   왜? 노무현 후보 때가 생각나지? 또 다른 노래가 생각난다. 김건모의 노래였든가? 정 후보 둥지로 날아간 민새. 민주당의 현주소를 보여주는 그의 발언들. 그냥 내부에서 조율할 일이지 뭐가 그리 잘나셔서 조순 전 시장 운운하며 기자회견까지 열고 방송 출연해서 따따부따 인가? 명 배우 \n",
      "[간호윤의 실학으로 읽는, 지금] (6) 복거(卜居) http://www.incheonilbo.com/news/articleView.html?idxno=1138226[간호윤의 실학으로 읽는, 지금] (6) 복거(卜居), 관석화균한 정치가 이뤄지면 ‘어디든지 살만한 곳’    새 당선자 일성이 ‘대통령 집무실을 용산으로 옮긴다’란다. 언론들은 과잉 충성으로 ‘용산’을 덮기 위한 ‘김정숙 여사 옷값’을 연일 보도\n",
      "네흘류도프의 깨달음이 필요한 우리 아파트 경비원의 자살로 한국 사회에 충격을 준 사건이 있었다. 그 일을 계기로 은퇴 후 아파트 경비직과 계약직으로 일했던 경험을 쓴 《임계장 이야기》를 읽었다. 조정진 작가는 자신이 경험한 아파트 주민들은 ‘좋은 사람 소수와 무관심한 다수, 그리고 극소수의 나쁜 사람’이라는 세 유형이 있었으며, 소수의 괴롭힘은 ‘진한 후유증을 남겼다’고 기록하고 있다.  \n",
      "경제기사로 여는 아침 2022.04.05 경제기사로 여는 아침. 오늘 식목일이자 절기상 맑고 밝다는 청명입니다. 세상은 절대적으로 잘하는 사람을 원하지 않습니다. 그냥 남보다 조금만 더 잘하면 됩니다. 남보다 잘 하려면 어떻게 하면 될까요? 남보다 좀더 하면 됩니다. 내가 멈추고 싶은 선에서 멈추면 남들도 거기까지입니다. 괴로움을 극복하고 조금 더 노력해야 남보다 잘할 수 있어요. 오늘도 좀만 더\n",
      "신문으로 여는 아침 “엄마 오늘 나무 심는 날이래. 유치원에서 나무 심을꺼야!” 첫째 꼬맹이의 말에 오늘이 식목일인 줄 알았네요. 예전이나 지금이나 나무가 주는 즐거움은 여전한 것 같아요.  기분 좋은 화요일 아침입니다  비트코인 2100만 개 중 1900만 개의 채굴이 완료되었다. 비트코인은 지하 자원처럼 채굴할 수 있는 수량이 2100만 개로 정해져 있다. 2030년이면 \n",
      "민주주의 Democracy; the fools have a right to vote. Dictatorship; the fools have a right to rule. - Bertrand Russel ​  민주주의에서는 바보도 투표권이 있다. 독재국가에서는 바보가 통치한다. - 버트런드 러셀​\n",
      "코로나 변이 바이러스의 종류는? 코로나 사태로 인해, 전 세계가 큰 변화에 물결에 있는 것 같습니다. ​ 뉴스에서 미국이 육로나 항만으로 예방 접종이 완료된 사람들에게 (친지 방문, 휴가, 쇼핑 등 비필수 여행객) 캐나다/미국 간 국경을 2021년 11월부터 입국 (정확한 날짜는 아직 발표되지 않음)을 허용한다고 발표했습니다. 비필수 여행자에 대한 육로 국경이 폐쇄된 지 약 19개월 만입\n",
      "(8주차)우는 자들과 함께 울라 부럽다 젠장 by.탱   1. 4월이 가까워 온다. 벌써 학교 일 마무리 한지 1 달이라는 시간이 흘렀다. 뭔가 힘내서 휴식을 취하려고 노력했었는데 나는 잘 쉬었나? 하는 의문이 든다... 아침엔 역시 일찍 일어나고 낮에는 낮잠도 못 자고 밤엔 예전처럼 늦게 잠이 든다. 그냥 피곤해서 주저리...   2. 대학교에서 일하던 선생님들과 점심식사 약속을 잡고 \n",
      "[나는 기레기다] 기레기를 위한 변명 3편 한국의 갈등은 극에 달해있다. 이념갈등, 젠더갈등, 계층갈등 등 세상은 둘로 갈라져 서로를 헐 뜯기 바쁘다. 그리고 이 갈등양상에서 과거부터 빠지지 않고 등장하는 것이 있다. 바로 세대갈등이다. 압축성장과 과학기술의 급격한 발달은 시간의 밀도를 대폭 증가시켰고, 이는 세대의 다름을 더욱 크게 만들었다.  즉, 부모님의 어제가 나의 오늘이 아니게 된 것이다.\n",
      "치열하게 살아야 평범해지는 큰 바램이 있지는 않다. 조그마한 집에서 강아지와 살고 싶다. 저녁엔 같이 산책을 하고 영화 한 편 보는 삶을 꿈꾼다. 이 평범한 목표를 이루기 위해 포기해야 할 것들을 떠올린다. 또 얼마나 많은 경쟁을 치러야 할까. 얼마나 많은 밤을 견뎌야 할까.   -‘치열’하게 살아야 ’평범‘해지는 시대  ’치열하게 살아야 평범해지는 시대. 나는 한국 사회를 이렇게 \n"
     ]
    }
   ],
   "source": [
    "options = webdriver.ChromeOptions()\n",
    "\n",
    "options.add_argument(\"user-agent=Mozilla/5.0 (Windows NT 10.0; Win64; x64) AppleWebKit/537.36 (KHTML, like Gecko)\")\n",
    "driver = webdriver.Chrome('chromedriver.exe', options=options)\n",
    "driver.get('https://brunch.co.kr')\n",
    "\n",
    "driver.implicitly_wait(time_to_wait=3)\n",
    "driver.find_element_by_xpath('/html/body/div[2]/main/div/article/div[3]/div[1]/div/a[3]').click()\n",
    "time.sleep(2)\n",
    "tab_list = driver.window_handles\n",
    "\n",
    "driver.switch_to.window(tab_list[1])\n",
    "time.sleep(2)\n",
    "\n",
    "soup = Soup(driver.page_source, 'lxml')\n",
    "\n",
    "article_title = soup.select(\"#wrapArticle > div.wrap_article_list.\\#keyword_related_contents > ul > li > a > div.post_title.has_image > strong\")\n",
    "article_content = soup.select(\"#wrapArticle > div.wrap_article_list.\\#keyword_related_contents > ul > li > a > div.post_title.has_image > div > span.article_content\")\n",
    "\n",
    "#article_content = soup.select(\"#wrapArticle > div.wrap_article_list.\\#keyword_related_contents > ul > li > a\")\n",
    "for a, b in zip(article_title, article_content) : \n",
    "    print(a.text, b.text)\n"
   ]
  },
  {
   "cell_type": "code",
   "execution_count": null,
   "id": "fff92975",
   "metadata": {},
   "outputs": [],
   "source": []
  }
 ],
 "metadata": {
  "kernelspec": {
   "display_name": "Python 3 (ipykernel)",
   "language": "python",
   "name": "python3"
  },
  "language_info": {
   "codemirror_mode": {
    "name": "ipython",
    "version": 3
   },
   "file_extension": ".py",
   "mimetype": "text/x-python",
   "name": "python",
   "nbconvert_exporter": "python",
   "pygments_lexer": "ipython3",
   "version": "3.9.7"
  }
 },
 "nbformat": 4,
 "nbformat_minor": 5
}
