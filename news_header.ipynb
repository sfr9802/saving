{
 "cells": [
  {
   "cell_type": "code",
   "execution_count": 13,
   "metadata": {},
   "outputs": [],
   "source": [
    "from selenium import webdriver\n",
    "from selenium.webdriver.chrome.service import Service as ChromeService\n",
    "from selenium.webdriver.chrome.options import Options as ChromeOptions\n",
    "from selenium.webdriver.common.by import By\n",
    "from bs4 import BeautifulSoup as Soup\n",
    "import pandas as pd\n",
    "import time\n",
    "import numpy as np\n",
    "import dtw\n",
    "import matplotlib.pyplot as plt\n",
    "import csv\n",
    "import kss\n",
    "import text_prepro"
   ]
  },
  {
   "cell_type": "code",
   "execution_count": 8,
   "metadata": {},
   "outputs": [
    {
     "ename": "WebDriverException",
     "evalue": "Message: disconnected: not connected to DevTools\n  (failed to check if window was closed: disconnected: not connected to DevTools)\n  (Session info: chrome=117.0.5938.92)\nStacktrace:\n\tGetHandleVerifier [0x00007FF7A78FAFD2+57938]\n\t(No symbol) [0x00007FF7A7867C02]\n\t(No symbol) [0x00007FF7A771DAAB]\n\t(No symbol) [0x00007FF7A770BA97]\n\t(No symbol) [0x00007FF7A770B710]\n\t(No symbol) [0x00007FF7A771F9A1]\n\t(No symbol) [0x00007FF7A7796F4F]\n\t(No symbol) [0x00007FF7A777E8C3]\n\t(No symbol) [0x00007FF7A77536D1]\n\t(No symbol) [0x00007FF7A7754914]\n\tGetHandleVerifier [0x00007FF7A7C5E772+3611122]\n\tGetHandleVerifier [0x00007FF7A7CB1640+3950784]\n\tGetHandleVerifier [0x00007FF7A7CAA6EF+3922287]\n\tGetHandleVerifier [0x00007FF7A7998996+703510]\n\t(No symbol) [0x00007FF7A7872B98]\n\t(No symbol) [0x00007FF7A786E754]\n\t(No symbol) [0x00007FF7A786E882]\n\t(No symbol) [0x00007FF7A785F2A3]\n\tBaseThreadInitThunk [0x00007FFFE0F37344+20]\n\tRtlUserThreadStart [0x00007FFFE25E26B1+33]\n",
     "output_type": "error",
     "traceback": [
      "\u001b[1;31m---------------------------------------------------------------------------\u001b[0m",
      "\u001b[1;31mWebDriverException\u001b[0m                        Traceback (most recent call last)",
      "\u001b[1;32mg:\\port\\arin\\port\\news_header.ipynb Cell 2\u001b[0m line \u001b[0;36m3\n\u001b[0;32m     <a href='vscode-notebook-cell:/g%3A/port/arin/port/news_header.ipynb#W1sZmlsZQ%3D%3D?line=28'>29</a>\u001b[0m     df_header\u001b[39m.\u001b[39miat[i,\u001b[39m0\u001b[39m] \u001b[39m=\u001b[39m header_list\n\u001b[0;32m     <a href='vscode-notebook-cell:/g%3A/port/arin/port/news_header.ipynb#W1sZmlsZQ%3D%3D?line=29'>30</a>\u001b[0m     header_list \u001b[39m=\u001b[39m []\n\u001b[1;32m---> <a href='vscode-notebook-cell:/g%3A/port/arin/port/news_header.ipynb#W1sZmlsZQ%3D%3D?line=30'>31</a>\u001b[0m     driver\u001b[39m.\u001b[39mfind_element(By\u001b[39m.\u001b[39mXPATH, \u001b[39m'\u001b[39m\u001b[39m/html/body/div[2]/div/div/div[1]/div[1]/div/div[1]/a[3]\u001b[39m\u001b[39m'\u001b[39m)\u001b[39m.\u001b[39mclick()\n\u001b[0;32m     <a href='vscode-notebook-cell:/g%3A/port/arin/port/news_header.ipynb#W1sZmlsZQ%3D%3D?line=31'>32</a>\u001b[0m     time\u001b[39m.\u001b[39msleep(\u001b[39m1\u001b[39m)\n\u001b[0;32m     <a href='vscode-notebook-cell:/g%3A/port/arin/port/news_header.ipynb#W1sZmlsZQ%3D%3D?line=34'>35</a>\u001b[0m df_header\u001b[39m.\u001b[39mto_csv(\u001b[39m'\u001b[39m\u001b[39mdaum_header 2200828.csv\u001b[39m\u001b[39m'\u001b[39m, sep\u001b[39m=\u001b[39m\u001b[39m'\u001b[39m\u001b[39m,\u001b[39m\u001b[39m'\u001b[39m, float_format\u001b[39m=\u001b[39m\u001b[39m'\u001b[39m\u001b[39m%.64f\u001b[39;00m\u001b[39m'\u001b[39m)\n",
      "File \u001b[1;32mh:\\anaconda\\Lib\\site-packages\\selenium\\webdriver\\remote\\webdriver.py:738\u001b[0m, in \u001b[0;36mWebDriver.find_element\u001b[1;34m(self, by, value)\u001b[0m\n\u001b[0;32m    735\u001b[0m     by \u001b[39m=\u001b[39m By\u001b[39m.\u001b[39mCSS_SELECTOR\n\u001b[0;32m    736\u001b[0m     value \u001b[39m=\u001b[39m \u001b[39mf\u001b[39m\u001b[39m'\u001b[39m\u001b[39m[name=\u001b[39m\u001b[39m\"\u001b[39m\u001b[39m{\u001b[39;00mvalue\u001b[39m}\u001b[39;00m\u001b[39m\"\u001b[39m\u001b[39m]\u001b[39m\u001b[39m'\u001b[39m\n\u001b[1;32m--> 738\u001b[0m \u001b[39mreturn\u001b[39;00m \u001b[39mself\u001b[39m\u001b[39m.\u001b[39mexecute(Command\u001b[39m.\u001b[39mFIND_ELEMENT, {\u001b[39m\"\u001b[39m\u001b[39musing\u001b[39m\u001b[39m\"\u001b[39m: by, \u001b[39m\"\u001b[39m\u001b[39mvalue\u001b[39m\u001b[39m\"\u001b[39m: value})[\u001b[39m\"\u001b[39m\u001b[39mvalue\u001b[39m\u001b[39m\"\u001b[39m]\n",
      "File \u001b[1;32mh:\\anaconda\\Lib\\site-packages\\selenium\\webdriver\\remote\\webdriver.py:344\u001b[0m, in \u001b[0;36mWebDriver.execute\u001b[1;34m(self, driver_command, params)\u001b[0m\n\u001b[0;32m    342\u001b[0m response \u001b[39m=\u001b[39m \u001b[39mself\u001b[39m\u001b[39m.\u001b[39mcommand_executor\u001b[39m.\u001b[39mexecute(driver_command, params)\n\u001b[0;32m    343\u001b[0m \u001b[39mif\u001b[39;00m response:\n\u001b[1;32m--> 344\u001b[0m     \u001b[39mself\u001b[39m\u001b[39m.\u001b[39merror_handler\u001b[39m.\u001b[39mcheck_response(response)\n\u001b[0;32m    345\u001b[0m     response[\u001b[39m\"\u001b[39m\u001b[39mvalue\u001b[39m\u001b[39m\"\u001b[39m] \u001b[39m=\u001b[39m \u001b[39mself\u001b[39m\u001b[39m.\u001b[39m_unwrap_value(response\u001b[39m.\u001b[39mget(\u001b[39m\"\u001b[39m\u001b[39mvalue\u001b[39m\u001b[39m\"\u001b[39m, \u001b[39mNone\u001b[39;00m))\n\u001b[0;32m    346\u001b[0m     \u001b[39mreturn\u001b[39;00m response\n",
      "File \u001b[1;32mh:\\anaconda\\Lib\\site-packages\\selenium\\webdriver\\remote\\errorhandler.py:229\u001b[0m, in \u001b[0;36mErrorHandler.check_response\u001b[1;34m(self, response)\u001b[0m\n\u001b[0;32m    227\u001b[0m         alert_text \u001b[39m=\u001b[39m value[\u001b[39m\"\u001b[39m\u001b[39malert\u001b[39m\u001b[39m\"\u001b[39m]\u001b[39m.\u001b[39mget(\u001b[39m\"\u001b[39m\u001b[39mtext\u001b[39m\u001b[39m\"\u001b[39m)\n\u001b[0;32m    228\u001b[0m     \u001b[39mraise\u001b[39;00m exception_class(message, screen, stacktrace, alert_text)  \u001b[39m# type: ignore[call-arg]  # mypy is not smart enough here\u001b[39;00m\n\u001b[1;32m--> 229\u001b[0m \u001b[39mraise\u001b[39;00m exception_class(message, screen, stacktrace)\n",
      "\u001b[1;31mWebDriverException\u001b[0m: Message: disconnected: not connected to DevTools\n  (failed to check if window was closed: disconnected: not connected to DevTools)\n  (Session info: chrome=117.0.5938.92)\nStacktrace:\n\tGetHandleVerifier [0x00007FF7A78FAFD2+57938]\n\t(No symbol) [0x00007FF7A7867C02]\n\t(No symbol) [0x00007FF7A771DAAB]\n\t(No symbol) [0x00007FF7A770BA97]\n\t(No symbol) [0x00007FF7A770B710]\n\t(No symbol) [0x00007FF7A771F9A1]\n\t(No symbol) [0x00007FF7A7796F4F]\n\t(No symbol) [0x00007FF7A777E8C3]\n\t(No symbol) [0x00007FF7A77536D1]\n\t(No symbol) [0x00007FF7A7754914]\n\tGetHandleVerifier [0x00007FF7A7C5E772+3611122]\n\tGetHandleVerifier [0x00007FF7A7CB1640+3950784]\n\tGetHandleVerifier [0x00007FF7A7CAA6EF+3922287]\n\tGetHandleVerifier [0x00007FF7A7998996+703510]\n\t(No symbol) [0x00007FF7A7872B98]\n\t(No symbol) [0x00007FF7A786E754]\n\t(No symbol) [0x00007FF7A786E882]\n\t(No symbol) [0x00007FF7A785F2A3]\n\tBaseThreadInitThunk [0x00007FFFE0F37344+20]\n\tRtlUserThreadStart [0x00007FFFE25E26B1+33]\n"
     ]
    }
   ],
   "source": [
    "options = webdriver.ChromeOptions()\n",
    "options.add_argument(\"user-agent=Mozilla/5.0 (Windows NT 10.0; Win64; x64) AppleWebKit/537.36 (KHTML, like Gecko)\")\n",
    "driver = webdriver.Chrome(options=options)\n",
    "\n",
    "\n",
    "driver.get(\"https://news.daum.net/breakingnews/society?page=1&regDate=20220828\")\n",
    "    \n",
    "html = driver.page_source\n",
    "soup = Soup(html, 'html.parser')\n",
    "header_list = []\n",
    "data_ix = pd.date_range(\"2022/08/28\",periods=100,freq=\"D\")\n",
    "\n",
    "df_header = pd.DataFrame(columns=['header'], index= data_ix)\n",
    "\n",
    "for i in range(100):\n",
    "    driver.find_element(By.XPATH, \"/html/body/div[2]/div/div/div[1]/div[3]/div/span/a[10]\").click()\n",
    "    for j in range(10):\n",
    "        for n in range(1, 15) :\n",
    "            n = str(n)\n",
    "            try :\n",
    "                header_list.append(driver.find_element(By.XPATH, \"/html/body/div[2]/div/div/div[1]/div[3]/ul/li[\"+n+\"]/div/strong/a\").text)\n",
    "            except :\n",
    "                break\n",
    "        try :\n",
    "            driver.find_element(By.XPATH, \"/html/body/div[2]/div/div/div[1]/div[3]/div/span/a[11]/span\").click()\n",
    "        except :\n",
    "            break\n",
    "        time.sleep(1)\n",
    "    df_header.iat[i,0] = header_list\n",
    "    header_list = []\n",
    "    driver.find_element(By.XPATH, '/html/body/div[2]/div/div/div[1]/div[1]/div/div[1]/a[3]').click()\n",
    "    time.sleep(1)\n",
    "    \n",
    "df_header.to_csv('daum_header 2200828.csv', sep=',', float_format='%.64f')"
   ]
  },
  {
   "cell_type": "code",
   "execution_count": 35,
   "metadata": {},
   "outputs": [
    {
     "data": {
      "text/html": [
       "<div>\n",
       "<style scoped>\n",
       "    .dataframe tbody tr th:only-of-type {\n",
       "        vertical-align: middle;\n",
       "    }\n",
       "\n",
       "    .dataframe tbody tr th {\n",
       "        vertical-align: top;\n",
       "    }\n",
       "\n",
       "    .dataframe thead th {\n",
       "        text-align: right;\n",
       "    }\n",
       "</style>\n",
       "<table border=\"1\" class=\"dataframe\">\n",
       "  <thead>\n",
       "    <tr style=\"text-align: right;\">\n",
       "      <th></th>\n",
       "      <th>Unnamed: 0</th>\n",
       "      <th>header</th>\n",
       "    </tr>\n",
       "  </thead>\n",
       "  <tbody>\n",
       "    <tr>\n",
       "      <th>0</th>\n",
       "      <td>2022-05-20</td>\n",
       "      <td>['옥천군, 대청호에 청소·체험용 보트 운항', '충주의료원 비전선포식 열려', '...</td>\n",
       "    </tr>\n",
       "    <tr>\n",
       "      <th>1</th>\n",
       "      <td>2022-05-21</td>\n",
       "      <td>[\"'박근혜 특활비 상납' 남재준·이병기 30일 출소..尹정부 첫 가석방\", '인천...</td>\n",
       "    </tr>\n",
       "    <tr>\n",
       "      <th>2</th>\n",
       "      <td>2022-05-22</td>\n",
       "      <td>[\"신도시가 정치색 바꾼 화성..현 시장 제친 행정가냐 '안철수의 브레인'이냐\", ...</td>\n",
       "    </tr>\n",
       "    <tr>\n",
       "      <th>3</th>\n",
       "      <td>2022-05-23</td>\n",
       "      <td>['의협회장 삭발까지.. 간호법 논란, 누굴 위한 싸움인가', '오후 9시까지 2만...</td>\n",
       "    </tr>\n",
       "    <tr>\n",
       "      <th>4</th>\n",
       "      <td>2022-05-24</td>\n",
       "      <td>['서울지하철노조 \"심야 연장운행 일방 추진말라\"', '오후 9시까지 전국 2만33...</td>\n",
       "    </tr>\n",
       "  </tbody>\n",
       "</table>\n",
       "</div>"
      ],
      "text/plain": [
       "   Unnamed: 0                                             header\n",
       "0  2022-05-20  ['옥천군, 대청호에 청소·체험용 보트 운항', '충주의료원 비전선포식 열려', '...\n",
       "1  2022-05-21  [\"'박근혜 특활비 상납' 남재준·이병기 30일 출소..尹정부 첫 가석방\", '인천...\n",
       "2  2022-05-22  [\"신도시가 정치색 바꾼 화성..현 시장 제친 행정가냐 '안철수의 브레인'이냐\", ...\n",
       "3  2022-05-23  ['의협회장 삭발까지.. 간호법 논란, 누굴 위한 싸움인가', '오후 9시까지 2만...\n",
       "4  2022-05-24  ['서울지하철노조 \"심야 연장운행 일방 추진말라\"', '오후 9시까지 전국 2만33..."
      ]
     },
     "execution_count": 35,
     "metadata": {},
     "output_type": "execute_result"
    }
   ],
   "source": [
    "df_csv_head = pd.read_csv(\"daum_header 220520.csv\")\n",
    "df_csv_head.head()\n"
   ]
  },
  {
   "cell_type": "code",
   "execution_count": 31,
   "metadata": {},
   "outputs": [
    {
     "data": {
      "text/html": [
       "<div>\n",
       "<style scoped>\n",
       "    .dataframe tbody tr th:only-of-type {\n",
       "        vertical-align: middle;\n",
       "    }\n",
       "\n",
       "    .dataframe tbody tr th {\n",
       "        vertical-align: top;\n",
       "    }\n",
       "\n",
       "    .dataframe thead th {\n",
       "        text-align: right;\n",
       "    }\n",
       "</style>\n",
       "<table border=\"1\" class=\"dataframe\">\n",
       "  <thead>\n",
       "    <tr style=\"text-align: right;\">\n",
       "      <th></th>\n",
       "      <th>pr_header</th>\n",
       "      <th>cnt</th>\n",
       "    </tr>\n",
       "  </thead>\n",
       "  <tbody>\n",
       "    <tr>\n",
       "      <th>2022-05-20</th>\n",
       "      <td>[[, ', 옥천군, ,, 대, 청호, 에, 청소, ·, 체험, 용, 보트, 운항,...</td>\n",
       "      <td>NaN</td>\n",
       "    </tr>\n",
       "    <tr>\n",
       "      <th>2022-05-21</th>\n",
       "      <td>[[, \"', 박근혜, 특활, 비, 상납, ', 남재준, ·, 이병기, 30, 일,...</td>\n",
       "      <td>NaN</td>\n",
       "    </tr>\n",
       "    <tr>\n",
       "      <th>2022-05-22</th>\n",
       "      <td>[[, \", 신, 도시, 가, 정치색, 바꾼, 화성, ., ., 현, 시장, 제친,...</td>\n",
       "      <td>NaN</td>\n",
       "    </tr>\n",
       "    <tr>\n",
       "      <th>2022-05-23</th>\n",
       "      <td>[[, ', 의협, 회장, 삭발, 까지, ., ., 간호법, 논란, ,, 누굴, 위...</td>\n",
       "      <td>NaN</td>\n",
       "    </tr>\n",
       "    <tr>\n",
       "      <th>2022-05-24</th>\n",
       "      <td>[[, ', 서울, 지하철, 노조, \", 심야, 연장, 운행, 일방, 추진, 말라,...</td>\n",
       "      <td>NaN</td>\n",
       "    </tr>\n",
       "  </tbody>\n",
       "</table>\n",
       "</div>"
      ],
      "text/plain": [
       "                                                    pr_header  cnt\n",
       "2022-05-20  [[, ', 옥천군, ,, 대, 청호, 에, 청소, ·, 체험, 용, 보트, 운항,...  NaN\n",
       "2022-05-21  [[, \"', 박근혜, 특활, 비, 상납, ', 남재준, ·, 이병기, 30, 일,...  NaN\n",
       "2022-05-22  [[, \", 신, 도시, 가, 정치색, 바꾼, 화성, ., ., 현, 시장, 제친,...  NaN\n",
       "2022-05-23  [[, ', 의협, 회장, 삭발, 까지, ., ., 간호법, 논란, ,, 누굴, 위...  NaN\n",
       "2022-05-24  [[, ', 서울, 지하철, 노조, \", 심야, 연장, 운행, 일방, 추진, 말라,...  NaN"
      ]
     },
     "execution_count": 31,
     "metadata": {},
     "output_type": "execute_result"
    }
   ],
   "source": [
    "df_p_t = pd.date_range(\"2022/05/20\",periods=100,freq=\"D\")\n",
    "df_pr = pd.DataFrame(columns=['pr_header', 'cnt'], index= df_p_t)\n",
    "for q, b in zip(df_csv_head[\"header\"], range(100)) :\n",
    "    tt = kss.split_morphemes(q, return_pos = False)\n",
    "    \n",
    "    df_pr.iat[b,0] = tt\n",
    "df_pr.head()"
   ]
  },
  {
   "cell_type": "code",
   "execution_count": 34,
   "metadata": {},
   "outputs": [
    {
     "name": "stdout",
     "output_type": "stream",
     "text": [
      "['갈등', '추락', '기소', '불편', '거짓', '난동', '폭언', '부글부글', '인재', '아동학대', '사망', '책임', '산재', '배신', '촉법소년', '마약', '슬쩍', '난입', '흉기', '살인미수', '괴롭힘', '우울', '우울감', '폭력', '욕설', '비극', '비상', '폐쇄', '유출', '횡령', '희롱', '방화', '우울증', '차별', '숨져', '논란', '항의', '투신', '통곡', '살해', '사고', '고독사', '숨진채', '흉악범죄', '얼룩', '중독', '학폭', '사망', '불법', '비판', '기피', '무시', '슬쩍', '후유증', '적신호', '사기', '피싱', '거부', '블랙리스트', '갑질', '중상', '하락', '반발', '비극', '비리', '자살', '침해', '외로움', '규탄', '꼼수', '진상']\n",
      "[7, 15, 8, 11, 11, 15, 14, 13, 6, 9, 8, 15, 6, 8, 11, 11, 11, 3, 13, 13, 17, 13, 11, 12, 17, 17, 9, 17, 12, 7, 12, 15, 12, 14, 14, 10, 10, 9, 12, 14, 9, 9, 10, 11, 13, 14, 14, 20, 19, 9, 12, 10, 17, 16, 14, 16, 13, 7, 13, 12, 14, 10, 11, 14, 6, 11, 10, 14, 18, 11, 8, 10, 11, 14, 11, 13, 12, 11, 15, 10, 12, 8, 15, 9, 9, 10, 6, 3, 12, 18, 18, 14, 19, 11, 16, 18, 11, 20, 5, 8] 71\n"
     ]
    },
    {
     "data": {
      "text/html": [
       "<div>\n",
       "<style scoped>\n",
       "    .dataframe tbody tr th:only-of-type {\n",
       "        vertical-align: middle;\n",
       "    }\n",
       "\n",
       "    .dataframe tbody tr th {\n",
       "        vertical-align: top;\n",
       "    }\n",
       "\n",
       "    .dataframe thead th {\n",
       "        text-align: right;\n",
       "    }\n",
       "</style>\n",
       "<table border=\"1\" class=\"dataframe\">\n",
       "  <thead>\n",
       "    <tr style=\"text-align: right;\">\n",
       "      <th></th>\n",
       "      <th>pr_header</th>\n",
       "      <th>cnt</th>\n",
       "    </tr>\n",
       "  </thead>\n",
       "  <tbody>\n",
       "    <tr>\n",
       "      <th>2022-05-20</th>\n",
       "      <td>[[, ', 옥천군, ,, 대, 청호, 에, 청소, ·, 체험, 용, 보트, 운항,...</td>\n",
       "      <td>7</td>\n",
       "    </tr>\n",
       "    <tr>\n",
       "      <th>2022-05-21</th>\n",
       "      <td>[[, \"', 박근혜, 특활, 비, 상납, ', 남재준, ·, 이병기, 30, 일,...</td>\n",
       "      <td>15</td>\n",
       "    </tr>\n",
       "    <tr>\n",
       "      <th>2022-05-22</th>\n",
       "      <td>[[, \", 신, 도시, 가, 정치색, 바꾼, 화성, ., ., 현, 시장, 제친,...</td>\n",
       "      <td>8</td>\n",
       "    </tr>\n",
       "    <tr>\n",
       "      <th>2022-05-23</th>\n",
       "      <td>[[, ', 의협, 회장, 삭발, 까지, ., ., 간호법, 논란, ,, 누굴, 위...</td>\n",
       "      <td>11</td>\n",
       "    </tr>\n",
       "    <tr>\n",
       "      <th>2022-05-24</th>\n",
       "      <td>[[, ', 서울, 지하철, 노조, \", 심야, 연장, 운행, 일방, 추진, 말라,...</td>\n",
       "      <td>11</td>\n",
       "    </tr>\n",
       "  </tbody>\n",
       "</table>\n",
       "</div>"
      ],
      "text/plain": [
       "                                                    pr_header cnt\n",
       "2022-05-20  [[, ', 옥천군, ,, 대, 청호, 에, 청소, ·, 체험, 용, 보트, 운항,...   7\n",
       "2022-05-21  [[, \"', 박근혜, 특활, 비, 상납, ', 남재준, ·, 이병기, 30, 일,...  15\n",
       "2022-05-22  [[, \", 신, 도시, 가, 정치색, 바꾼, 화성, ., ., 현, 시장, 제친,...   8\n",
       "2022-05-23  [[, ', 의협, 회장, 삭발, 까지, ., ., 간호법, 논란, ,, 누굴, 위...  11\n",
       "2022-05-24  [[, ', 서울, 지하철, 노조, \", 심야, 연장, 운행, 일방, 추진, 말라,...  11"
      ]
     },
     "execution_count": 34,
     "metadata": {},
     "output_type": "execute_result"
    }
   ],
   "source": [
    "hate = \"갈등 추락 기소 불편 거짓 난동 폭언 부글부글 인재 아동학대 사망 책임 산재 배신 촉법소년 마약 슬쩍 난입 흉기 살인미수 괴롭힘 우울 우울감 폭력 욕설 비극 비상 폐쇄 유출 횡령 희롱 방화 우울증 차별 숨져 논란 항의 투신 통곡 살해 사고 고독사 숨진채 흉악범죄 얼룩 중독 학폭 사망 불법 비판 기피 무시 슬쩍 후유증 적신호 사기 피싱 거부 블랙리스트 갑질 중상 하락 반발 비극 비리 자살 침해 외로움 규탄 꼼수 진상 \"\n",
    "hate = hate.split()\n",
    "print(hate)\n",
    "count = 0 \n",
    "cnt_list = []\n",
    "for i, c in zip(df_pr[\"pr_header\"], range(100)) :\n",
    "    #str_i = ''.join(i)\n",
    "    for h in hate :\n",
    "        if h in i :\n",
    "            count+=1\n",
    "    cnt_list.append(count)\n",
    "    df_pr.iat[c, 1] = count\n",
    "    count = 0\n",
    "df_pr.head()\n"
   ]
  },
  {
   "cell_type": "code",
   "execution_count": null,
   "metadata": {},
   "outputs": [],
   "source": []
  }
 ],
 "metadata": {
  "kernelspec": {
   "display_name": "Python 3 (ipykernel)",
   "language": "python",
   "name": "python3"
  },
  "language_info": {
   "codemirror_mode": {
    "name": "ipython",
    "version": 3
   },
   "file_extension": ".py",
   "mimetype": "text/x-python",
   "name": "python",
   "nbconvert_exporter": "python",
   "pygments_lexer": "ipython3",
   "version": "3.11.4"
  }
 },
 "nbformat": 4,
 "nbformat_minor": 2
}
