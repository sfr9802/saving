{
 "cells": [
  {
   "cell_type": "code",
   "execution_count": 2,
   "id": "5932400b",
   "metadata": {},
   "outputs": [],
   "source": [
    "import numpy as np\n",
    "import pandas as pd\n",
    "\n",
    "import yfinance as yf\n",
    "import plotly.graph_objs as go\n",
    "import plotly.express as px\n",
    "import matplotlib.pyplot as plt\n",
    "import plotly.express as px\n",
    "from plotly.subplots import make_subplots"
   ]
  },
  {
   "cell_type": "code",
   "execution_count": 1,
   "id": "06222800",
   "metadata": {},
   "outputs": [
    {
     "ename": "NameError",
     "evalue": "name 'yf' is not defined",
     "output_type": "error",
     "traceback": [
      "\u001b[1;31m---------------------------------------------------------------------------\u001b[0m",
      "\u001b[1;31mNameError\u001b[0m                                 Traceback (most recent call last)",
      "Cell \u001b[1;32mIn[1], line 58\u001b[0m\n\u001b[0;32m     51\u001b[0m     df_stock \u001b[38;5;241m=\u001b[39m pd\u001b[38;5;241m.\u001b[39mDataFrame({\u001b[38;5;124m'\u001b[39m\u001b[38;5;124mHigh\u001b[39m\u001b[38;5;124m'\u001b[39m : data[\u001b[38;5;124m'\u001b[39m\u001b[38;5;124mHigh\u001b[39m\u001b[38;5;124m'\u001b[39m], \n\u001b[0;32m     52\u001b[0m                                 \u001b[38;5;124m'\u001b[39m\u001b[38;5;124mLow\u001b[39m\u001b[38;5;124m'\u001b[39m : data[\u001b[38;5;124m'\u001b[39m\u001b[38;5;124mLow\u001b[39m\u001b[38;5;124m'\u001b[39m], \n\u001b[0;32m     53\u001b[0m                                 \u001b[38;5;124m'\u001b[39m\u001b[38;5;124mClose\u001b[39m\u001b[38;5;124m'\u001b[39m : data[\u001b[38;5;124m'\u001b[39m\u001b[38;5;124mClose\u001b[39m\u001b[38;5;124m'\u001b[39m], \n\u001b[0;32m     54\u001b[0m                                 \u001b[38;5;124m'\u001b[39m\u001b[38;5;124mOpen\u001b[39m\u001b[38;5;124m'\u001b[39m : data[\u001b[38;5;124m'\u001b[39m\u001b[38;5;124mOpen\u001b[39m\u001b[38;5;124m'\u001b[39m],\n\u001b[0;32m     55\u001b[0m                                 \u001b[38;5;124m'\u001b[39m\u001b[38;5;124mAdj Close\u001b[39m\u001b[38;5;124m'\u001b[39m : data[\u001b[38;5;124m'\u001b[39m\u001b[38;5;124mAdj Close\u001b[39m\u001b[38;5;124m'\u001b[39m]},\n\u001b[0;32m     56\u001b[0m                                 index \u001b[38;5;241m=\u001b[39m data\u001b[38;5;241m.\u001b[39mindex)\n\u001b[0;32m     57\u001b[0m     \u001b[38;5;28;01mreturn\u001b[39;00m df_stock\n\u001b[1;32m---> 58\u001b[0m yf_to_df(\u001b[38;5;124m'\u001b[39m\u001b[38;5;124m^GSPC\u001b[39m\u001b[38;5;124m'\u001b[39m, \u001b[38;5;124m'\u001b[39m\u001b[38;5;124m1h\u001b[39m\u001b[38;5;124m'\u001b[39m, \u001b[38;5;124m'\u001b[39m\u001b[38;5;124m2022-01-01\u001b[39m\u001b[38;5;124m'\u001b[39m, \u001b[38;5;124m'\u001b[39m\u001b[38;5;124m2022-07-16\u001b[39m\u001b[38;5;124m'\u001b[39m)\n",
      "Cell \u001b[1;32mIn[1], line 50\u001b[0m, in \u001b[0;36myf_to_df\u001b[1;34m(tker, per, start_date, end_date)\u001b[0m\n\u001b[0;32m     49\u001b[0m \u001b[38;5;28;01mdef\u001b[39;00m \u001b[38;5;21myf_to_df\u001b[39m(tker : \u001b[38;5;28mstr\u001b[39m, per : \u001b[38;5;28mstr\u001b[39m, start_date : \u001b[38;5;28mstr\u001b[39m, end_date : \u001b[38;5;28mstr\u001b[39m) :\n\u001b[1;32m---> 50\u001b[0m     data \u001b[38;5;241m=\u001b[39m yf\u001b[38;5;241m.\u001b[39mdownload(tickers \u001b[38;5;241m=\u001b[39m tker, interval \u001b[38;5;241m=\u001b[39m per, start\u001b[38;5;241m=\u001b[39mstart_date, end \u001b[38;5;241m=\u001b[39m end_date)\n\u001b[0;32m     51\u001b[0m     df_stock \u001b[38;5;241m=\u001b[39m pd\u001b[38;5;241m.\u001b[39mDataFrame({\u001b[38;5;124m'\u001b[39m\u001b[38;5;124mHigh\u001b[39m\u001b[38;5;124m'\u001b[39m : data[\u001b[38;5;124m'\u001b[39m\u001b[38;5;124mHigh\u001b[39m\u001b[38;5;124m'\u001b[39m], \n\u001b[0;32m     52\u001b[0m                                 \u001b[38;5;124m'\u001b[39m\u001b[38;5;124mLow\u001b[39m\u001b[38;5;124m'\u001b[39m : data[\u001b[38;5;124m'\u001b[39m\u001b[38;5;124mLow\u001b[39m\u001b[38;5;124m'\u001b[39m], \n\u001b[0;32m     53\u001b[0m                                 \u001b[38;5;124m'\u001b[39m\u001b[38;5;124mClose\u001b[39m\u001b[38;5;124m'\u001b[39m : data[\u001b[38;5;124m'\u001b[39m\u001b[38;5;124mClose\u001b[39m\u001b[38;5;124m'\u001b[39m], \n\u001b[0;32m     54\u001b[0m                                 \u001b[38;5;124m'\u001b[39m\u001b[38;5;124mOpen\u001b[39m\u001b[38;5;124m'\u001b[39m : data[\u001b[38;5;124m'\u001b[39m\u001b[38;5;124mOpen\u001b[39m\u001b[38;5;124m'\u001b[39m],\n\u001b[0;32m     55\u001b[0m                                 \u001b[38;5;124m'\u001b[39m\u001b[38;5;124mAdj Close\u001b[39m\u001b[38;5;124m'\u001b[39m : data[\u001b[38;5;124m'\u001b[39m\u001b[38;5;124mAdj Close\u001b[39m\u001b[38;5;124m'\u001b[39m]},\n\u001b[0;32m     56\u001b[0m                                 index \u001b[38;5;241m=\u001b[39m data\u001b[38;5;241m.\u001b[39mindex)\n\u001b[0;32m     57\u001b[0m     \u001b[38;5;28;01mreturn\u001b[39;00m df_stock\n",
      "\u001b[1;31mNameError\u001b[0m: name 'yf' is not defined"
     ]
    }
   ],
   "source": [
    "\n",
    "def yfi_snp500_chart(start_date : str, end_date : str) :\n",
    "    snp_data = yf.download(tickers='^GSPC', period = '4h', start=start_date, end = end_date)\n",
    "\n",
    "    fig = go.Figure()\n",
    "    fig2 = go.Figure()\n",
    "\n",
    "    #Candlestick\n",
    "\n",
    "    fig.add_trace(go.Candlestick(x=snp_data.index,\n",
    "                            open=snp_data['Open'],\n",
    "                            high=snp_data['High'],\n",
    "                            low=snp_data['Low'],\n",
    "                            close=snp_data['Close'],\n",
    "                            name = 'market data'))\n",
    "    fig.update_layout(\n",
    "        title='S&P500 live share price evolution',\n",
    "        yaxis_title='Stock Price (USD per Shares)')\n",
    "    \n",
    "    fig.update_xaxes(\n",
    "        rangeslider_visible=True,\n",
    "        rangeselector=dict(\n",
    "            buttons=list([\n",
    "                dict(count=1, label=\"1m\", step=\"minute\", stepmode=\"backward\"),\n",
    "                dict(count=3, label=\"3m\", step=\"minute\", stepmode=\"backward\"),\n",
    "                dict(count=5, label=\"5m\", step=\"minute\", stepmode=\"backward\"),\n",
    "                dict(count=15, label=\"15m\", step=\"minute\", stepmode=\"backward\"),\n",
    "                dict(count=45, label=\"45m\", step=\"minute\", stepmode=\"backward\"),\n",
    "                dict(count=1, label=\"HTD\", step=\"hour\", stepmode=\"todate\"),\n",
    "                dict(count=3, label=\"3h\", step=\"hour\", stepmode=\"backward\"),\n",
    "                dict(step=\"all\")\n",
    "            ])\n",
    "        )\n",
    "    )\n",
    "    \n",
    "\n",
    "\n",
    "def to_csv(tker : str, per : str, date : str, start_date : str, end_date : str) :\n",
    "    data = yf.download(tickers = tker, period = per, start=start_date, end = end_date)\n",
    "    \n",
    "    df_stock = pd.DataFrame({'High' : data['High'], \n",
    "                                'Low' : data['Low'], \n",
    "                                'Close' : data['Close'], \n",
    "                                'Open' : data['Open'],\n",
    "                                'Adj Close' : data['Ajd Close']},\n",
    "                                index = data.index)\n",
    "    \n",
    "    df_spy.to_csv('SPY data'+date+'.csv', sep=',', float_format='%.64f')\n",
    "\n",
    "def yf_to_df(tker : str, per : str, start_date : str, end_date : str) :\n",
    "    data = yf.download(tickers = tker, interval = per, start=start_date, end = end_date)\n",
    "    df_stock = pd.DataFrame({'High' : data['High'], \n",
    "                                'Low' : data['Low'], \n",
    "                                'Close' : data['Close'], \n",
    "                                'Open' : data['Open'],\n",
    "                                'Adj Close' : data['Adj Close']},\n",
    "                                index = data.index)\n",
    "    return df_stock\n",
    "yf_to_df('^GSPC', '1h', '2022-01-01', '2022-07-16')"
   ]
  },
  {
   "cell_type": "code",
   "execution_count": null,
   "id": "071757f5",
   "metadata": {},
   "outputs": [],
   "source": []
  }
 ],
 "metadata": {
  "kernelspec": {
   "display_name": "Python 3 (ipykernel)",
   "language": "python",
   "name": "python3"
  },
  "language_info": {
   "codemirror_mode": {
    "name": "ipython",
    "version": 3
   },
   "file_extension": ".py",
   "mimetype": "text/x-python",
   "name": "python",
   "nbconvert_exporter": "python",
   "pygments_lexer": "ipython3",
   "version": "3.11.4"
  }
 },
 "nbformat": 4,
 "nbformat_minor": 5
}
