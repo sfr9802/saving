{
 "cells": [
  {
   "cell_type": "code",
   "execution_count": 1,
   "id": "f64697d5",
   "metadata": {},
   "outputs": [
    {
     "name": "stdout",
     "output_type": "stream",
     "text": [
      "Importing the dtw module. When using in academic works please cite:\n",
      "  T. Giorgino. Computing and Visualizing Dynamic Time Warping Alignments in R: The dtw Package.\n",
      "  J. Stat. Soft., doi:10.18637/jss.v031.i07.\n",
      "\n"
     ]
    }
   ],
   "source": [
    "from selenium import webdriver\n",
    "from selenium.webdriver.chrome.service import Service as ChromeService\n",
    "from selenium.webdriver.chrome.options import Options as ChromeOptions\n",
    "from selenium.webdriver.common.by import By\n",
    "from bs4 import BeautifulSoup as Soup\n",
    "import pandas as pd\n",
    "import time\n",
    "import numpy as np\n",
    "import dtw\n",
    "import matplotlib.pyplot as plt\n",
    "import csv\n",
    "import kss"
   ]
  },
  {
   "cell_type": "code",
   "execution_count": null,
   "id": "dc9df7d9",
   "metadata": {},
   "outputs": [],
   "source": [
    "options = webdriver.ChromeOptions()\n",
    "prefs = {'profile.default_content_setting_values': {'cookies' : 2, 'images': 2, 'plugins' : 2, 'popups': 2, 'geolocation': 2, 'notifications' : 2, 'auto_select_certificate': 2, 'fullscreen' : 2, 'mouselock' : 2, 'mixed_script': 2, 'media_stream' : 2, 'media_stream_mic' : 2, 'media_stream_camera': 2, 'protocol_handlers' : 2, 'ppapi_broker' : 2, 'automatic_downloads': 2, 'midi_sysex' : 2, 'push_messaging' : 2, 'ssl_cert_decisions': 2, 'metro_switch_to_desktop' : 2, 'protected_media_identifier': 2, 'app_banner': 2, 'site_engagement' : 2, 'durable_storage' : 2}}   \n",
    "options.add_experimental_option('prefs', prefs)\n",
    "options.headless = True\n",
    "options.add_argument(\"user-agent=Mozilla/5.0 (Windows NT 10.0; Win64; x64) AppleWebKit/537.36 (KHTML, like Gecko)\")\n",
    "driver = webdriver.Chrome(options=options)\n",
    "\n",
    "\n",
    "driver.get(\"https://news.daum.net/breakingnews/society?page=1&regDate=20130101\")\n",
    "    \n",
    "html = driver.page_source\n",
    "soup = Soup(html, 'html.parser')\n",
    "header_list = []\n",
    "data_ix = pd.date_range(\"2013/01/01\",periods=365,freq=\"D\")\n",
    "\n",
    "df_header = pd.DataFrame(columns=['header'], index= data_ix)\n",
    "\n",
    "for i in range(365):\n",
    "    driver.find_element(By.XPATH, \"/html/body/div[2]/div/div/div[1]/div[3]/div/span/a[10]\").click()\n",
    "    for j in range(10):\n",
    "        for n in range(1, 15) :\n",
    "            n = str(n)\n",
    "            try :\n",
    "                header_list.append(driver.find_element(By.XPATH, \"/html/body/div[2]/div/div/div[1]/div[3]/ul/li[\"+n+\"]/div/strong/a\").text)\n",
    "            except :\n",
    "                break\n",
    "        try :\n",
    "            driver.find_element(By.XPATH, \"/html/body/div[2]/div/div/div[1]/div[3]/div/span/a[11]/span\").click()\n",
    "        except :\n",
    "            break\n",
    "        time.sleep(1)\n",
    "    df_header.iat[i,0] = header_list\n",
    "    header_list = []\n",
    "    driver.find_element(By.XPATH, '/html/body/div[2]/div/div/div[1]/div[1]/div/div[1]/a[3]').click()\n",
    "    time.sleep(1)\n",
    "    \n",
    "df_header.to_csv('daum_header 2013.csv', sep=',', float_format='%.64f')"
   ]
  }
 ],
 "metadata": {
  "kernelspec": {
   "display_name": "Python 3 (ipykernel)",
   "language": "python",
   "name": "python3"
  },
  "language_info": {
   "codemirror_mode": {
    "name": "ipython",
    "version": 3
   },
   "file_extension": ".py",
   "mimetype": "text/x-python",
   "name": "python",
   "nbconvert_exporter": "python",
   "pygments_lexer": "ipython3",
   "version": "3.11.4"
  }
 },
 "nbformat": 4,
 "nbformat_minor": 5
}
